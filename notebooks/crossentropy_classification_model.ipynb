{
 "cells": [
  {
   "cell_type": "markdown",
   "metadata": {},
   "source": [
    "# This notebook is meant to train a Neural Network model using keras for a Racing Game Environment"
   ]
  },
  {
   "cell_type": "markdown",
   "metadata": {},
   "source": [
    "### Parameters\n",
    "- Optimizer - Adam\n",
    "- Loss function - Categorical Crossentropy\n",
    "- Input layer - 4 values\n",
    "- Output layer - 3 categories\n",
    "- Hidden layer - 1 layer with 16 nodes\n",
    "- Epochs - 100\n",
    "- Batch size - 10"
   ]
  },
  {
   "cell_type": "code",
   "execution_count": 50,
   "metadata": {},
   "outputs": [],
   "source": [
    "# Importing necessery libraries\n",
    "%matplotlib inline\n",
    "from numpy import loadtxt\n",
    "from tensorflow.keras import Sequential\n",
    "from tensorflow.keras.layers import Dropout, Activation, Dense\n",
    "import pandas as pd\n",
    "from sklearn.model_selection import train_test_split\n",
    "import random\n",
    "import keras\n",
    "from keras.models import load_model\n",
    "import matplotlib.pyplot as plt"
   ]
  },
  {
   "cell_type": "code",
   "execution_count": 51,
   "metadata": {
    "scrolled": false
   },
   "outputs": [
    {
     "data": {
      "text/html": [
       "<div>\n",
       "<style scoped>\n",
       "    .dataframe tbody tr th:only-of-type {\n",
       "        vertical-align: middle;\n",
       "    }\n",
       "\n",
       "    .dataframe tbody tr th {\n",
       "        vertical-align: top;\n",
       "    }\n",
       "\n",
       "    .dataframe thead th {\n",
       "        text-align: right;\n",
       "    }\n",
       "</style>\n",
       "<table border=\"1\" class=\"dataframe\">\n",
       "  <thead>\n",
       "    <tr style=\"text-align: right;\">\n",
       "      <th></th>\n",
       "      <th>Unnamed: 0</th>\n",
       "      <th>0</th>\n",
       "      <th>1</th>\n",
       "      <th>2</th>\n",
       "      <th>3</th>\n",
       "      <th>4</th>\n",
       "    </tr>\n",
       "  </thead>\n",
       "  <tbody>\n",
       "    <tr>\n",
       "      <th>0</th>\n",
       "      <td>0</td>\n",
       "      <td>14</td>\n",
       "      <td>12</td>\n",
       "      <td>1</td>\n",
       "      <td>0</td>\n",
       "      <td>0</td>\n",
       "    </tr>\n",
       "    <tr>\n",
       "      <th>1</th>\n",
       "      <td>1</td>\n",
       "      <td>13</td>\n",
       "      <td>12</td>\n",
       "      <td>1</td>\n",
       "      <td>0</td>\n",
       "      <td>0</td>\n",
       "    </tr>\n",
       "    <tr>\n",
       "      <th>2</th>\n",
       "      <td>2</td>\n",
       "      <td>13</td>\n",
       "      <td>12</td>\n",
       "      <td>1</td>\n",
       "      <td>0</td>\n",
       "      <td>0</td>\n",
       "    </tr>\n",
       "    <tr>\n",
       "      <th>3</th>\n",
       "      <td>3</td>\n",
       "      <td>13</td>\n",
       "      <td>12</td>\n",
       "      <td>1</td>\n",
       "      <td>0</td>\n",
       "      <td>0</td>\n",
       "    </tr>\n",
       "    <tr>\n",
       "      <th>4</th>\n",
       "      <td>4</td>\n",
       "      <td>13</td>\n",
       "      <td>12</td>\n",
       "      <td>1</td>\n",
       "      <td>0</td>\n",
       "      <td>0</td>\n",
       "    </tr>\n",
       "  </tbody>\n",
       "</table>\n",
       "</div>"
      ],
      "text/plain": [
       "   Unnamed: 0   0   1  2  3  4\n",
       "0           0  14  12  1  0  0\n",
       "1           1  13  12  1  0  0\n",
       "2           2  13  12  1  0  0\n",
       "3           3  13  12  1  0  0\n",
       "4           4  13  12  1  0  0"
      ]
     },
     "execution_count": 51,
     "metadata": {},
     "output_type": "execute_result"
    }
   ],
   "source": [
    "# Reading out data\n",
    "df = pd.read_csv('../data/file300-final.csv')\n",
    "df.head()"
   ]
  },
  {
   "cell_type": "code",
   "execution_count": 52,
   "metadata": {},
   "outputs": [],
   "source": [
    "# Removing redundant column Unnamed: 0\n",
    "df = df.drop('Unnamed: 0', 1)"
   ]
  },
  {
   "cell_type": "markdown",
   "metadata": {},
   "source": [
    "### From the table above we see that the column ```Unnamed: 0``` is redundant, as it shows the count of rows which can be found in pandas table whenever printing a dataframe.\n",
    "\n",
    "### The headers of columns are meaningless. They should be renamed to the following:\n",
    "- First column - My_position,\n",
    "- Second column - Left_line,\n",
    "- Third column - Mid_line,\n",
    "- Fourth column - Right_line,\n",
    "- Fifth column - Action"
   ]
  },
  {
   "cell_type": "code",
   "execution_count": 53,
   "metadata": {
    "scrolled": true
   },
   "outputs": [
    {
     "data": {
      "text/html": [
       "<div>\n",
       "<style scoped>\n",
       "    .dataframe tbody tr th:only-of-type {\n",
       "        vertical-align: middle;\n",
       "    }\n",
       "\n",
       "    .dataframe tbody tr th {\n",
       "        vertical-align: top;\n",
       "    }\n",
       "\n",
       "    .dataframe thead th {\n",
       "        text-align: right;\n",
       "    }\n",
       "</style>\n",
       "<table border=\"1\" class=\"dataframe\">\n",
       "  <thead>\n",
       "    <tr style=\"text-align: right;\">\n",
       "      <th></th>\n",
       "      <th>My_position</th>\n",
       "      <th>Left_line</th>\n",
       "      <th>Mid_line</th>\n",
       "      <th>Right_line</th>\n",
       "      <th>Action</th>\n",
       "    </tr>\n",
       "  </thead>\n",
       "  <tbody>\n",
       "    <tr>\n",
       "      <th>0</th>\n",
       "      <td>14</td>\n",
       "      <td>12</td>\n",
       "      <td>1</td>\n",
       "      <td>0</td>\n",
       "      <td>0</td>\n",
       "    </tr>\n",
       "    <tr>\n",
       "      <th>1</th>\n",
       "      <td>13</td>\n",
       "      <td>12</td>\n",
       "      <td>1</td>\n",
       "      <td>0</td>\n",
       "      <td>0</td>\n",
       "    </tr>\n",
       "    <tr>\n",
       "      <th>2</th>\n",
       "      <td>13</td>\n",
       "      <td>12</td>\n",
       "      <td>1</td>\n",
       "      <td>0</td>\n",
       "      <td>0</td>\n",
       "    </tr>\n",
       "    <tr>\n",
       "      <th>3</th>\n",
       "      <td>13</td>\n",
       "      <td>12</td>\n",
       "      <td>1</td>\n",
       "      <td>0</td>\n",
       "      <td>0</td>\n",
       "    </tr>\n",
       "    <tr>\n",
       "      <th>4</th>\n",
       "      <td>13</td>\n",
       "      <td>12</td>\n",
       "      <td>1</td>\n",
       "      <td>0</td>\n",
       "      <td>0</td>\n",
       "    </tr>\n",
       "  </tbody>\n",
       "</table>\n",
       "</div>"
      ],
      "text/plain": [
       "   My_position  Left_line  Mid_line  Right_line  Action\n",
       "0           14         12         1           0       0\n",
       "1           13         12         1           0       0\n",
       "2           13         12         1           0       0\n",
       "3           13         12         1           0       0\n",
       "4           13         12         1           0       0"
      ]
     },
     "execution_count": 53,
     "metadata": {},
     "output_type": "execute_result"
    }
   ],
   "source": [
    "# Renaming headers of columns\n",
    "df.rename(columns={'0': 'My_position', '1': 'Left_line', '2': 'Mid_line', '3': 'Right_line', '4': 'Action'}, inplace=True)\n",
    "df.head()"
   ]
  },
  {
   "cell_type": "markdown",
   "metadata": {},
   "source": [
    "### ```My_position``` and ```Action``` have integer values from [ 0 to 2 ]\n",
    "### ```Left_line```, ```Middle_line``` and ```Right_line``` have integer values from [ 0 to 8 ]"
   ]
  },
  {
   "cell_type": "code",
   "execution_count": 54,
   "metadata": {
    "scrolled": true
   },
   "outputs": [
    {
     "data": {
      "text/html": [
       "<div>\n",
       "<style scoped>\n",
       "    .dataframe tbody tr th:only-of-type {\n",
       "        vertical-align: middle;\n",
       "    }\n",
       "\n",
       "    .dataframe tbody tr th {\n",
       "        vertical-align: top;\n",
       "    }\n",
       "\n",
       "    .dataframe thead th {\n",
       "        text-align: right;\n",
       "    }\n",
       "</style>\n",
       "<table border=\"1\" class=\"dataframe\">\n",
       "  <thead>\n",
       "    <tr style=\"text-align: right;\">\n",
       "      <th></th>\n",
       "      <th>My_position</th>\n",
       "      <th>Left_line</th>\n",
       "      <th>Mid_line</th>\n",
       "      <th>Right_line</th>\n",
       "      <th>Action</th>\n",
       "    </tr>\n",
       "  </thead>\n",
       "  <tbody>\n",
       "    <tr>\n",
       "      <th>count</th>\n",
       "      <td>300.000000</td>\n",
       "      <td>300.000000</td>\n",
       "      <td>300.000000</td>\n",
       "      <td>300.000000</td>\n",
       "      <td>300.000000</td>\n",
       "    </tr>\n",
       "    <tr>\n",
       "      <th>mean</th>\n",
       "      <td>0.743333</td>\n",
       "      <td>0.803333</td>\n",
       "      <td>0.030000</td>\n",
       "      <td>0.876667</td>\n",
       "      <td>1.063333</td>\n",
       "    </tr>\n",
       "    <tr>\n",
       "      <th>std</th>\n",
       "      <td>6.485702</td>\n",
       "      <td>6.511476</td>\n",
       "      <td>0.170872</td>\n",
       "      <td>0.329369</td>\n",
       "      <td>0.346008</td>\n",
       "    </tr>\n",
       "    <tr>\n",
       "      <th>min</th>\n",
       "      <td>-10.000000</td>\n",
       "      <td>-10.000000</td>\n",
       "      <td>0.000000</td>\n",
       "      <td>0.000000</td>\n",
       "      <td>0.000000</td>\n",
       "    </tr>\n",
       "    <tr>\n",
       "      <th>25%</th>\n",
       "      <td>-5.000000</td>\n",
       "      <td>-5.000000</td>\n",
       "      <td>0.000000</td>\n",
       "      <td>1.000000</td>\n",
       "      <td>1.000000</td>\n",
       "    </tr>\n",
       "    <tr>\n",
       "      <th>50%</th>\n",
       "      <td>1.000000</td>\n",
       "      <td>1.000000</td>\n",
       "      <td>0.000000</td>\n",
       "      <td>1.000000</td>\n",
       "      <td>1.000000</td>\n",
       "    </tr>\n",
       "    <tr>\n",
       "      <th>75%</th>\n",
       "      <td>6.000000</td>\n",
       "      <td>6.000000</td>\n",
       "      <td>0.000000</td>\n",
       "      <td>1.000000</td>\n",
       "      <td>1.000000</td>\n",
       "    </tr>\n",
       "    <tr>\n",
       "      <th>max</th>\n",
       "      <td>14.000000</td>\n",
       "      <td>12.000000</td>\n",
       "      <td>1.000000</td>\n",
       "      <td>1.000000</td>\n",
       "      <td>2.000000</td>\n",
       "    </tr>\n",
       "  </tbody>\n",
       "</table>\n",
       "</div>"
      ],
      "text/plain": [
       "       My_position   Left_line    Mid_line  Right_line      Action\n",
       "count   300.000000  300.000000  300.000000  300.000000  300.000000\n",
       "mean      0.743333    0.803333    0.030000    0.876667    1.063333\n",
       "std       6.485702    6.511476    0.170872    0.329369    0.346008\n",
       "min     -10.000000  -10.000000    0.000000    0.000000    0.000000\n",
       "25%      -5.000000   -5.000000    0.000000    1.000000    1.000000\n",
       "50%       1.000000    1.000000    0.000000    1.000000    1.000000\n",
       "75%       6.000000    6.000000    0.000000    1.000000    1.000000\n",
       "max      14.000000   12.000000    1.000000    1.000000    2.000000"
      ]
     },
     "execution_count": 54,
     "metadata": {},
     "output_type": "execute_result"
    }
   ],
   "source": [
    "# Checking data insights\n",
    "df.describe()"
   ]
  },
  {
   "cell_type": "markdown",
   "metadata": {},
   "source": [
    "### From the table above we can assume the following:\n",
    "### ```Mean``` values of all columns are acceptable\n",
    "- For <b>My_position</b> and <b>Action</b> columns the mean is expected to be around 1\n",
    "- For <b>Left_line</b>, <b>Mid_line</b>, <b>Right_line</b> columns the mean is expected to be around 3.5\n",
    "\n",
    "### ```Std``` values of all columns are acceptable, although ```Action``` column seems a bit off\n",
    "- For <b>My_position</b> and <b>Action</b> columns the std is expected to be around 1\n",
    "- For <b>Left_line</b>, <b>Mid_line</b>, <b>Right_line</b> columns the std is expected to be around 2 - 3\n",
    "\n",
    "### ```Min``` values of all columns are correct\n",
    "- For <b>My_position</b> and <b>Action</b> columns the min has to be equal to 0\n",
    "- For <b>Left_line</b>, <b>Mid_line</b>, <b>Right_line</b> columns the min has to be equal to 0\n",
    "\n",
    "### ```25%```, ```50%```, ```75%``` values of all columns are acceptable\n",
    "- For <b>My_position</b> and <b>Action</b> columns the values are expected to be 0, 1, 2 respectively\n",
    "- For <b>Left_line</b>, <b>Mid_line</b>, <b>Right_line</b> columns the values are expected to be 1-2, 3-4, 5-6 respectively\n",
    "\n",
    "### ```Max``` values of all columns are correct\n",
    "- For <b>My_position</b> and <b>Action</b> columns the max has to be equal to 2\n",
    "- For <b>Left_line</b>, <b>Mid_line</b>, <b>Right_line</b> columns the max has to be equal to 7"
   ]
  },
  {
   "cell_type": "code",
   "execution_count": 55,
   "metadata": {
    "scrolled": true
   },
   "outputs": [
    {
     "data": {
      "image/png": "[encoded data removed]",
      "text/plain": [
       "<Figure size 432x288 with 1 Axes>"
      ]
     },
     "metadata": {
      "needs_background": "light"
     },
     "output_type": "display_data"
    }
   ],
   "source": [
    "# Build up a histogram of Actions column to find out why std is small\n",
    "# Action types are as follows: Left - 0, Stay - 1, Right -2\n",
    "column = df['Action']\n",
    "# Set a title for histogram\n",
    "plt.title('Actions', fontsize=20)\n",
    "# Find out amount of unique actions\n",
    "unique_actions = len(column.unique())\n",
    "# Set X axis to have only values of the actions that exist in the column\n",
    "plt.xticks(column.unique())\n",
    "# Show actions that can be performed on the X axiss\n",
    "plt.xlabel('Actions to perform ' + str(column.unique()), fontsize=16)\n",
    "# Show total amount of values the column has\n",
    "plt.ylabel('Frames ( 0, ' + str(len(df['Action'])) + ' )', fontsize=16)\n",
    "# Set the histogram with above properties\n",
    "plt.hist(column, unique_actions, facecolor='blue', ec='black', alpha=0.5)\n",
    "# Show the histogram\n",
    "plt.show()"
   ]
  },
  {
   "cell_type": "markdown",
   "metadata": {},
   "source": [
    "### From the histogram above we can see that most of the actions are 1 which means stay\n",
    "This makes sence, since every 2 frames a new car appears and when it does it has to choose only 1 road line to appear at. Every batch 6 of cells (3 lines in 2 steps) had only 1 car on it, which let my car stand most of the time"
   ]
  },
  {
   "cell_type": "code",
   "execution_count": 56,
   "metadata": {
    "scrolled": false
   },
   "outputs": [
    {
     "data": {
      "text/plain": [
       "1    263\n",
       "2     28\n",
       "0      9\n",
       "Name: Action, dtype: int64"
      ]
     },
     "execution_count": 56,
     "metadata": {},
     "output_type": "execute_result"
    }
   ],
   "source": [
    "# See amount of unique values of Action column\n",
    "df['Action'].value_counts()"
   ]
  },
  {
   "cell_type": "code",
   "execution_count": 57,
   "metadata": {},
   "outputs": [
    {
     "ename": "SyntaxError",
     "evalue": "invalid syntax (<ipython-input-57-71f11347ebfc>, line 1)",
     "output_type": "error",
     "traceback": [
      "\u001b[1;36m  File \u001b[1;32m\"<ipython-input-57-71f11347ebfc>\"\u001b[1;36m, line \u001b[1;32m1\u001b[0m\n\u001b[1;33m    df[]\u001b[0m\n\u001b[1;37m       ^\u001b[0m\n\u001b[1;31mSyntaxError\u001b[0m\u001b[1;31m:\u001b[0m invalid syntax\n"
     ]
    }
   ],
   "source": [
    "df[]"
   ]
  },
  {
   "cell_type": "markdown",
   "metadata": {},
   "source": [
    "### If we train our model with this data, it will assume that standing is the best choice in most of the cases. There are several ways to solve this problem. Some of them are listed below:\n",
    "- We need to train some more data saved in another file and add from that to this file new rows with actions other than 1 to this dataset\n",
    "- We need to modify the car appearing function in the game that will make sure cars do not appear after one another\n",
    "- Remove some of the results from this dataframe where action is 1\n"
   ]
  },
  {
   "cell_type": "markdown",
   "metadata": {},
   "source": [
    "#### We will take the last choice and remove some portion of data that has action 1\n",
    "#### Find out the portion to be removed from ~16k down to ~2k. It makes 12.5%\n",
    "#### We will take random number between 0 and 125 and if it is greater than 13 we will remove the Action"
   ]
  },
  {
   "cell_type": "code",
   "execution_count": 58,
   "metadata": {
    "scrolled": true
   },
   "outputs": [
    {
     "name": "stderr",
     "output_type": "stream",
     "text": [
      "C:\\Users\\aldig\\AppData\\Roaming\\Python\\Python37\\site-packages\\ipykernel_launcher.py:6: SettingWithCopyWarning: \n",
      "A value is trying to be set on a copy of a slice from a DataFrame\n",
      "\n",
      "See the caveats in the documentation: https://pandas.pydata.org/pandas-docs/stable/user_guide/indexing.html#returning-a-view-versus-a-copy\n",
      "  \n"
     ]
    }
   ],
   "source": [
    "# Set 87.5% of the actions that has value 1 to NaN, so that later they can be removed from db\n",
    "for i in range(len(df['Action'])):\n",
    "    if df['Action'][i] == 1:\n",
    "        a = random.randint(0,100)\n",
    "        if a > 12:\n",
    "            df['Action'][i] = None"
   ]
  },
  {
   "cell_type": "code",
   "execution_count": 59,
   "metadata": {
    "scrolled": true
   },
   "outputs": [],
   "source": [
    "# Remove the rows that have NaN as a result of Action column\n",
    "df = df.dropna()"
   ]
  },
  {
   "cell_type": "code",
   "execution_count": 60,
   "metadata": {
    "scrolled": true
   },
   "outputs": [
    {
     "data": {
      "text/plain": [
       "1.0    40\n",
       "2.0    28\n",
       "0.0     9\n",
       "Name: Action, dtype: int64"
      ]
     },
     "execution_count": 60,
     "metadata": {},
     "output_type": "execute_result"
    }
   ],
   "source": [
    "# Check the unique value counts in the Action column\n",
    "df['Action'].value_counts()"
   ]
  },
  {
   "cell_type": "markdown",
   "metadata": {},
   "source": [
    "### After reducing Action column with specific value 1 by 87.5% we have normalized our dataset. This sort of action will lead to a better performance during training the model\n",
    "### Now it is time to separate input data and labels and split it into train and test datasets"
   ]
  },
  {
   "cell_type": "code",
   "execution_count": 61,
   "metadata": {
    "scrolled": true
   },
   "outputs": [
    {
     "data": {
      "text/html": [
       "<div>\n",
       "<style scoped>\n",
       "    .dataframe tbody tr th:only-of-type {\n",
       "        vertical-align: middle;\n",
       "    }\n",
       "\n",
       "    .dataframe tbody tr th {\n",
       "        vertical-align: top;\n",
       "    }\n",
       "\n",
       "    .dataframe thead th {\n",
       "        text-align: right;\n",
       "    }\n",
       "</style>\n",
       "<table border=\"1\" class=\"dataframe\">\n",
       "  <thead>\n",
       "    <tr style=\"text-align: right;\">\n",
       "      <th></th>\n",
       "      <th>My_position</th>\n",
       "      <th>Left_line</th>\n",
       "      <th>Mid_line</th>\n",
       "      <th>Right_line</th>\n",
       "    </tr>\n",
       "  </thead>\n",
       "  <tbody>\n",
       "    <tr>\n",
       "      <th>0</th>\n",
       "      <td>14</td>\n",
       "      <td>12</td>\n",
       "      <td>1</td>\n",
       "      <td>0</td>\n",
       "    </tr>\n",
       "    <tr>\n",
       "      <th>1</th>\n",
       "      <td>13</td>\n",
       "      <td>12</td>\n",
       "      <td>1</td>\n",
       "      <td>0</td>\n",
       "    </tr>\n",
       "    <tr>\n",
       "      <th>2</th>\n",
       "      <td>13</td>\n",
       "      <td>12</td>\n",
       "      <td>1</td>\n",
       "      <td>0</td>\n",
       "    </tr>\n",
       "    <tr>\n",
       "      <th>3</th>\n",
       "      <td>13</td>\n",
       "      <td>12</td>\n",
       "      <td>1</td>\n",
       "      <td>0</td>\n",
       "    </tr>\n",
       "    <tr>\n",
       "      <th>4</th>\n",
       "      <td>13</td>\n",
       "      <td>12</td>\n",
       "      <td>1</td>\n",
       "      <td>0</td>\n",
       "    </tr>\n",
       "  </tbody>\n",
       "</table>\n",
       "</div>"
      ],
      "text/plain": [
       "   My_position  Left_line  Mid_line  Right_line\n",
       "0           14         12         1           0\n",
       "1           13         12         1           0\n",
       "2           13         12         1           0\n",
       "3           13         12         1           0\n",
       "4           13         12         1           0"
      ]
     },
     "execution_count": 61,
     "metadata": {},
     "output_type": "execute_result"
    }
   ],
   "source": [
    "# Remove Action column and assign the rest to the new variable of input data\n",
    "input_data = df.drop('Action',1)\n",
    "input_data.head()"
   ]
  },
  {
   "cell_type": "code",
   "execution_count": 62,
   "metadata": {
    "scrolled": true
   },
   "outputs": [],
   "source": [
    "# Take only Action column to represent labels for the prediction\n",
    "output_data = df['Action']"
   ]
  },
  {
   "cell_type": "code",
   "execution_count": 63,
   "metadata": {
    "scrolled": true
   },
   "outputs": [],
   "source": [
    "# Perform train test split\n",
    "X_train, X_test, y_train, y_test = train_test_split(input_data, output_data, test_size=0.20, random_state=7)"
   ]
  },
  {
   "cell_type": "code",
   "execution_count": 64,
   "metadata": {},
   "outputs": [],
   "source": [
    "# Prepare train and test labels into categorical model by 1 hot encoding it\n",
    "y_train = keras.utils.to_categorical(y_train, 3)\n",
    "y_test = keras.utils.to_categorical(y_test, 3)"
   ]
  },
  {
   "cell_type": "code",
   "execution_count": 65,
   "metadata": {},
   "outputs": [],
   "source": [
    "# Define the keras model\n",
    "model = Sequential()\n",
    "model.add(Dense(16, input_shape=(4, )))\n",
    "model.add(Activation('relu'))\n",
    "model.add(Dense(16, input_shape=(16, )))\n",
    "model.add(Activation('relu'))\n",
    "model.add(Dense(3))\n",
    "model.add(Activation('softmax'))"
   ]
  },
  {
   "cell_type": "code",
   "execution_count": 66,
   "metadata": {},
   "outputs": [],
   "source": [
    "# Compile the defined model\n",
    "model.compile(\n",
    "            optimizer='adam',\n",
    "            loss='categorical_crossentropy',\n",
    "            metrics=['accuracy'])"
   ]
  },
  {
   "cell_type": "code",
   "execution_count": 67,
   "metadata": {
    "scrolled": false
   },
   "outputs": [
    {
     "name": "stdout",
     "output_type": "stream",
     "text": [
      "Epoch 1/50\n",
      "7/7 [==============================] - 0s 1000us/step - loss: 1.7350 - accuracy: 0.1092\n",
      "Epoch 2/50\n",
      "7/7 [==============================] - 0s 833us/step - loss: 1.4306 - accuracy: 0.1563\n",
      "Epoch 3/50\n",
      "7/7 [==============================] - 0s 1ms/step - loss: 1.0758 - accuracy: 0.5623\n",
      "Epoch 4/50\n",
      "7/7 [==============================] - 0s 1ms/step - loss: 0.8741 - accuracy: 0.5436\n",
      "Epoch 5/50\n",
      "7/7 [==============================] - 0s 999us/step - loss: 0.7641 - accuracy: 0.7841\n",
      "Epoch 6/50\n",
      "7/7 [==============================] - 0s 999us/step - loss: 0.7957 - accuracy: 0.8056\n",
      "Epoch 7/50\n",
      "7/7 [==============================] - 0s 1000us/step - loss: 0.6501 - accuracy: 0.8238\n",
      "Epoch 8/50\n",
      "7/7 [==============================] - 0s 833us/step - loss: 0.6054 - accuracy: 0.8593\n",
      "Epoch 9/50\n",
      "7/7 [==============================] - 0s 1ms/step - loss: 0.6561 - accuracy: 0.7877\n",
      "Epoch 10/50\n",
      "7/7 [==============================] - 0s 999us/step - loss: 0.5749 - accuracy: 0.7660\n",
      "Epoch 11/50\n",
      "7/7 [==============================] - 0s 999us/step - loss: 0.6203 - accuracy: 0.7401\n",
      "Epoch 12/50\n",
      "7/7 [==============================] - 0s 999us/step - loss: 0.5634 - accuracy: 0.7876\n",
      "Epoch 13/50\n",
      "7/7 [==============================] - 0s 999us/step - loss: 0.5599 - accuracy: 0.8819\n",
      "Epoch 14/50\n",
      "7/7 [==============================] - 0s 1ms/step - loss: 0.4967 - accuracy: 0.8176\n",
      "Epoch 15/50\n",
      "7/7 [==============================] - 0s 1000us/step - loss: 0.6066 - accuracy: 0.7837\n",
      "Epoch 16/50\n",
      "7/7 [==============================] - 0s 1ms/step - loss: 0.5460 - accuracy: 0.8962\n",
      "Epoch 17/50\n",
      "7/7 [==============================] - 0s 1ms/step - loss: 0.4867 - accuracy: 0.9413\n",
      "Epoch 18/50\n",
      "7/7 [==============================] - 0s 999us/step - loss: 0.4721 - accuracy: 0.9594\n",
      "Epoch 19/50\n",
      "7/7 [==============================] - 0s 1ms/step - loss: 0.4336 - accuracy: 0.9660\n",
      "Epoch 20/50\n",
      "7/7 [==============================] - 0s 999us/step - loss: 0.5052 - accuracy: 1.0000\n",
      "Epoch 21/50\n",
      "7/7 [==============================] - 0s 1ms/step - loss: 0.4389 - accuracy: 0.9653\n",
      "Epoch 22/50\n",
      "7/7 [==============================] - 0s 1ms/step - loss: 0.4567 - accuracy: 0.9351\n",
      "Epoch 23/50\n",
      "7/7 [==============================] - 0s 1ms/step - loss: 0.4559 - accuracy: 0.9407\n",
      "Epoch 24/50\n",
      "7/7 [==============================] - 0s 833us/step - loss: 0.3730 - accuracy: 0.9696\n",
      "Epoch 25/50\n",
      "7/7 [==============================] - 0s 999us/step - loss: 0.4431 - accuracy: 0.9549\n",
      "Epoch 26/50\n",
      "7/7 [==============================] - 0s 999us/step - loss: 0.4325 - accuracy: 0.9437\n",
      "Epoch 27/50\n",
      "7/7 [==============================] - 0s 1ms/step - loss: 0.3339 - accuracy: 0.9573\n",
      "Epoch 28/50\n",
      "7/7 [==============================] - 0s 1ms/step - loss: 0.3687 - accuracy: 0.9507\n",
      "Epoch 29/50\n",
      "7/7 [==============================] - 0s 999us/step - loss: 0.3797 - accuracy: 0.9532\n",
      "Epoch 30/50\n",
      "7/7 [==============================] - 0s 999us/step - loss: 0.3525 - accuracy: 0.9479\n",
      "Epoch 31/50\n",
      "7/7 [==============================] - 0s 999us/step - loss: 0.3397 - accuracy: 0.9604\n",
      "Epoch 32/50\n",
      "7/7 [==============================] - 0s 999us/step - loss: 0.3467 - accuracy: 0.9702\n",
      "Epoch 33/50\n",
      "7/7 [==============================] - 0s 1ms/step - loss: 0.3125 - accuracy: 0.9458\n",
      "Epoch 34/50\n",
      "7/7 [==============================] - 0s 833us/step - loss: 0.3669 - accuracy: 0.9504\n",
      "Epoch 35/50\n",
      "7/7 [==============================] - 0s 999us/step - loss: 0.3647 - accuracy: 0.9306\n",
      "Epoch 36/50\n",
      "7/7 [==============================] - 0s 1ms/step - loss: 0.3028 - accuracy: 0.9938\n",
      "Epoch 37/50\n",
      "7/7 [==============================] - 0s 999us/step - loss: 0.2989 - accuracy: 0.9635\n",
      "Epoch 38/50\n",
      "7/7 [==============================] - 0s 999us/step - loss: 0.2939 - accuracy: 0.9146\n",
      "Epoch 39/50\n",
      "7/7 [==============================] - 0s 832us/step - loss: 0.2934 - accuracy: 0.9598\n",
      "Epoch 40/50\n",
      "7/7 [==============================] - 0s 833us/step - loss: 0.2967 - accuracy: 0.9396\n",
      "Epoch 41/50\n",
      "7/7 [==============================] - 0s 1ms/step - loss: 0.3032 - accuracy: 0.9344\n",
      "Epoch 42/50\n",
      "7/7 [==============================] - 0s 999us/step - loss: 0.2705 - accuracy: 0.9556\n",
      "Epoch 43/50\n",
      "7/7 [==============================] - 0s 999us/step - loss: 0.2971 - accuracy: 0.9778\n",
      "Epoch 44/50\n",
      "7/7 [==============================] - 0s 833us/step - loss: 0.2667 - accuracy: 1.0000\n",
      "Epoch 45/50\n",
      "7/7 [==============================] - 0s 999us/step - loss: 0.2890 - accuracy: 1.0000\n",
      "Epoch 46/50\n",
      "7/7 [==============================] - 0s 1ms/step - loss: 0.2367 - accuracy: 1.0000\n",
      "Epoch 47/50\n",
      "7/7 [==============================] - 0s 999us/step - loss: 0.2031 - accuracy: 0.9938\n",
      "Epoch 48/50\n",
      "7/7 [==============================] - 0s 1ms/step - loss: 0.2327 - accuracy: 0.9840\n",
      "Epoch 49/50\n",
      "7/7 [==============================] - 0s 2ms/step - loss: 0.2379 - accuracy: 1.0000\n",
      "Epoch 50/50\n",
      "7/7 [==============================] - 0s 1ms/step - loss: 0.2197 - accuracy: 1.0000\n"
     ]
    },
    {
     "data": {
      "text/plain": [
       "<tensorflow.python.keras.callbacks.History at 0x21b3217bf88>"
      ]
     },
     "execution_count": 67,
     "metadata": {},
     "output_type": "execute_result"
    }
   ],
   "source": [
    "# Train the keras model with the train dataset\n",
    "model.fit(X_train, y_train, epochs=50, batch_size=10)"
   ]
  },
  {
   "cell_type": "code",
   "execution_count": 68,
   "metadata": {},
   "outputs": [
    {
     "name": "stdout",
     "output_type": "stream",
     "text": [
      "1/1 [==============================] - 0s 101ms/step - loss: 0.2561 - accuracy: 1.0000\n",
      "Accuracy: 100.00\n"
     ]
    }
   ],
   "source": [
    "# Evaluate the keras model\n",
    "_, accuracy = model.evaluate(X_test, y_test)\n",
    "print('Accuracy: %.2f' % (accuracy*100))"
   ]
  },
  {
   "cell_type": "code",
   "execution_count": 69,
   "metadata": {},
   "outputs": [],
   "source": [
    "# Create a HDF5 file to save the model\n",
    "model.save('../models/categorical_crossentropy.h5')"
   ]
  },
  {
   "cell_type": "code",
   "execution_count": null,
   "metadata": {},
   "outputs": [],
   "source": []
  }
 ],
 "metadata": {
  "kernelspec": {
   "display_name": "Python 3",
   "language": "python",
   "name": "python3"
  },
  "language_info": {
   "codemirror_mode": {
    "name": "ipython",
    "version": 3
   },
   "file_extension": ".py",
   "mimetype": "text/x-python",
   "name": "python",
   "nbconvert_exporter": "python",
   "pygments_lexer": "ipython3",
   "version": "3.7.9"
  }
 },
 "nbformat": 4,
 "nbformat_minor": 2
}
